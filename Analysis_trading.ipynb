{
 "cells": [
  {
   "attachments": {},
   "cell_type": "markdown",
   "metadata": {},
   "source": [
    "# Importating : "
   ]
  },
  {
   "cell_type": "code",
   "execution_count": null,
   "metadata": {},
   "outputs": [],
   "source": []
  },
  {
   "cell_type": "code",
   "execution_count": null,
   "metadata": {},
   "outputs": [],
   "source": [
    "\n",
    "# Initialisez le client (vous n'avez pas besoin de clés pour les données publiques)\n",
    "client = Client()\n",
    "\n",
    "# Fonction de rappel pour gérer les données reçues\n",
    "def process_message(msg):\n",
    "    print(f\"Message Type: {msg['e']}\")\n",
    "    print(f\"Time: {msg['T']}\")\n",
    "    print(f\"Price: {msg['p']}\")\n",
    "    print(f\"Quantity: {msg['q']}\")\n",
    "    print(\"-------------------------\")\n",
    "\n",
    "# Initialisez le gestionnaire de websocket\n",
    "bm = BinanceSocketManager(client)\n",
    "# Commencez à écouter les trades pour BTC/USDT\n",
    "bm.start_trade_socket('BTCUSDT', process_message)\n",
    "bm.start()\n"
   ]
  }
 ],
 "metadata": {
  "kernelspec": {
   "display_name": "trading",
   "language": "python",
   "name": "python3"
  },
  "language_info": {
   "name": "python",
   "version": "3.10.12"
  },
  "orig_nbformat": 4,
  "vscode": {
   "interpreter": {
    "hash": "8301b50a15c7c52b6d73af0eae93d35b41e705d5809b4dbec49017f96c683e42"
   }
  }
 },
 "nbformat": 4,
 "nbformat_minor": 2
}
